{
 "cells": [
  {
   "cell_type": "markdown",
   "metadata": {},
   "source": [
    "## Hands-on demo "
   ]
  },
  {
   "cell_type": "markdown",
   "metadata": {},
   "source": [
    "First trying out on how to fetch data from World Bank’s famous World Development Indicators using a very handy wbdata package from python."
   ]
  },
  {
   "cell_type": "code",
   "execution_count": 1,
   "metadata": {},
   "outputs": [
    {
     "name": "stdout",
     "output_type": "stream",
     "text": [
      "Requirement already satisfied: wbdata in /Users/nixiwang/miniconda3/lib/python3.6/site-packages (0.2.7)\r\n",
      "Requirement already satisfied: decorator in /Users/nixiwang/miniconda3/lib/python3.6/site-packages (from wbdata) (4.3.0)\r\n"
     ]
    }
   ],
   "source": [
    "!pip install wbdata\n",
    "import wbdata"
   ]
  },
  {
   "cell_type": "code",
   "execution_count": null,
   "metadata": {},
   "outputs": [],
   "source": [
    "wbdata.get_source()"
   ]
  },
  {
   "cell_type": "markdown",
   "metadata": {},
   "source": [
    "__Looking up for the Gender statistics data__"
   ]
  },
  {
   "cell_type": "code",
   "execution_count": 7,
   "metadata": {},
   "outputs": [
    {
     "name": "stdout",
     "output_type": "stream",
     "text": [
      "SG.NOD.CONS         \tNondiscrimination clause mentions gender in the constitution (1=yes; 0=no)\n",
      "SG.LAW.NODC.HR      \tLaw mandates nondiscrimination based on gender in hiring (1=yes; 0=no)\n",
      "SE.ENR.TERT.FM.ZS   \tSchool enrollment, tertiary (gross), gender parity index (GPI)\n",
      "SE.ENR.SECO.FM.ZS   \tSchool enrollment, secondary (gross), gender parity index (GPI)\n",
      "SE.ENR.PRSC.FM.ZS   \tSchool enrollment, primary and secondary (gross), gender parity index (GPI)\n",
      "SE.ENR.PRIM.FM.ZS   \tSchool enrollment, primary (gross), gender parity index (GPI)\n",
      "SE.ADT.1524.LT.FM.ZS\tLiteracy rate, youth (ages 15-24), gender parity index (GPI)\n"
     ]
    }
   ],
   "source": [
    "wbdata.search_indicators('Gender', source = 14)"
   ]
  },
  {
   "cell_type": "code",
   "execution_count": 9,
   "metadata": {},
   "outputs": [],
   "source": [
    "ind = wbdata.get_indicator('SE.ENR.SECO.FM.ZS', display=False)"
   ]
  },
  {
   "cell_type": "code",
   "execution_count": 10,
   "metadata": {},
   "outputs": [
    {
     "data": {
      "text/plain": [
       "[{'id': 'SE.ENR.SECO.FM.ZS',\n",
       "  'name': 'School enrollment, secondary (gross), gender parity index (GPI)',\n",
       "  'source': {'id': '2', 'value': 'World Development Indicators'},\n",
       "  'sourceNote': 'Gender parity index for gross enrollment ratio in secondary education is the ratio of girls to boys enrolled at secondary level in public and private schools.',\n",
       "  'sourceOrganization': 'UNESCO Institute for Statistics',\n",
       "  'topics': [{'id': '4', 'value': 'Education '},\n",
       "   {'id': '17', 'value': 'Gender'},\n",
       "   {'id': '15', 'value': 'Social Development '}]}]"
      ]
     },
     "execution_count": 10,
     "metadata": {},
     "output_type": "execute_result"
    }
   ],
   "source": [
    "ind"
   ]
  },
  {
   "cell_type": "code",
   "execution_count": 22,
   "metadata": {},
   "outputs": [
    {
     "name": "stdout",
     "output_type": "stream",
     "text": [
      "USA\tUnited States\n",
      "IND\tIndia\n"
     ]
    }
   ],
   "source": [
    "wbdata.search_countries(\"United States\")\n",
    "wbdata.search_countries(\"India\")"
   ]
  },
  {
   "cell_type": "code",
   "execution_count": 13,
   "metadata": {},
   "outputs": [],
   "source": [
    "import datetime\n",
    "data_dates = (datetime.datetime(2015,1,1))"
   ]
  },
  {
   "cell_type": "code",
   "execution_count": 18,
   "metadata": {},
   "outputs": [
    {
     "data": {
      "text/html": [
       "<div>\n",
       "<style scoped>\n",
       "    .dataframe tbody tr th:only-of-type {\n",
       "        vertical-align: middle;\n",
       "    }\n",
       "\n",
       "    .dataframe tbody tr th {\n",
       "        vertical-align: top;\n",
       "    }\n",
       "\n",
       "    .dataframe thead th {\n",
       "        text-align: right;\n",
       "    }\n",
       "</style>\n",
       "<table border=\"1\" class=\"dataframe\">\n",
       "  <thead>\n",
       "    <tr style=\"text-align: right;\">\n",
       "      <th></th>\n",
       "      <th></th>\n",
       "      <th>values</th>\n",
       "    </tr>\n",
       "    <tr>\n",
       "      <th>country</th>\n",
       "      <th>date</th>\n",
       "      <th></th>\n",
       "    </tr>\n",
       "  </thead>\n",
       "  <tbody>\n",
       "    <tr>\n",
       "      <th>Canada</th>\n",
       "      <th>2015</th>\n",
       "      <td>1.00839</td>\n",
       "    </tr>\n",
       "    <tr>\n",
       "      <th>United States</th>\n",
       "      <th>2015</th>\n",
       "      <td>1.01040</td>\n",
       "    </tr>\n",
       "  </tbody>\n",
       "</table>\n",
       "</div>"
      ],
      "text/plain": [
       "                     values\n",
       "country       date         \n",
       "Canada        2015  1.00839\n",
       "United States 2015  1.01040"
      ]
     },
     "execution_count": 18,
     "metadata": {},
     "output_type": "execute_result"
    }
   ],
   "source": [
    "import pandas as pd\n",
    "data = wbdata.get_dataframe({'SE.ENR.SECO.FM.ZS':'values'},\n",
    "                           country = ('USA', 'CAN'),\n",
    "                           data_date = data_dates,\n",
    "                           convert_date = False, keep_levels = True)\n",
    "data.head()"
   ]
  },
  {
   "cell_type": "markdown",
   "metadata": {},
   "source": [
    "## Writing function"
   ]
  },
  {
   "cell_type": "markdown",
   "metadata": {},
   "source": [
    "One specific country lookup"
   ]
  },
  {
   "cell_type": "code",
   "execution_count": 29,
   "metadata": {},
   "outputs": [],
   "source": [
    "# function for specific country lookup\n",
    "def country_data(country_code, indicator, start = 2015, end = 2015):\n",
    "    import datetime\n",
    "    import wbdata\n",
    "    data_dates = (datetime.datetime(start, 1,1), datetime.datetime(end, 1,1))\n",
    "    #call the api\n",
    "    data = wbdata.get_dataframe({indicator: 'indicator'},\n",
    "                                country=country_code, \n",
    "                                data_date=data_dates, \n",
    "                                convert_date=True, \n",
    "                                keep_levels=False)\n",
    "    \n",
    "    data = data.reset_index()\n",
    "    #data = data.dropna() #if I want I can drop the na's\n",
    "    return data[['indicator']]\n",
    "    "
   ]
  },
  {
   "cell_type": "code",
   "execution_count": 21,
   "metadata": {},
   "outputs": [
    {
     "data": {
      "text/html": [
       "<div>\n",
       "<style scoped>\n",
       "    .dataframe tbody tr th:only-of-type {\n",
       "        vertical-align: middle;\n",
       "    }\n",
       "\n",
       "    .dataframe tbody tr th {\n",
       "        vertical-align: top;\n",
       "    }\n",
       "\n",
       "    .dataframe thead th {\n",
       "        text-align: right;\n",
       "    }\n",
       "</style>\n",
       "<table border=\"1\" class=\"dataframe\">\n",
       "  <thead>\n",
       "    <tr style=\"text-align: right;\">\n",
       "      <th></th>\n",
       "      <th>indicator</th>\n",
       "    </tr>\n",
       "  </thead>\n",
       "  <tbody>\n",
       "    <tr>\n",
       "      <th>0</th>\n",
       "      <td>1.01032</td>\n",
       "    </tr>\n",
       "  </tbody>\n",
       "</table>\n",
       "</div>"
      ],
      "text/plain": [
       "   indicator\n",
       "0    1.01032"
      ]
     },
     "execution_count": 21,
     "metadata": {},
     "output_type": "execute_result"
    }
   ],
   "source": [
    "country_data('IDN','SE.ENR.SECO.FM.ZS')"
   ]
  },
  {
   "cell_type": "markdown",
   "metadata": {},
   "source": [
    "To return the gender indicator list of all countries "
   ]
  },
  {
   "cell_type": "code",
   "execution_count": 7,
   "metadata": {},
   "outputs": [],
   "source": [
    "# function for getting gender indicator data for all countries\n",
    "def WB_country_data(indicator, start = 2015, end = 2015):\n",
    "    import datetime\n",
    "    import wbdata\n",
    "    data_dates = (datetime.datetime(start, 1,1), datetime.datetime(end, 1,1))\n",
    "    #call the api\n",
    "    data = wbdata.get_dataframe({indicator: 'indicator'},\n",
    "                                data_date=data_dates, \n",
    "                                convert_date=True, \n",
    "                                keep_levels=False)\n",
    "    \n",
    "    # data = data.reset_index()\n",
    "    #data = data.dropna() #if I want I can drop the na's\n",
    "    return data[['indicator']]\n"
   ]
  },
  {
   "cell_type": "code",
   "execution_count": 13,
   "metadata": {},
   "outputs": [
    {
     "data": {
      "text/html": [
       "<div>\n",
       "<style scoped>\n",
       "    .dataframe tbody tr th:only-of-type {\n",
       "        vertical-align: middle;\n",
       "    }\n",
       "\n",
       "    .dataframe tbody tr th {\n",
       "        vertical-align: top;\n",
       "    }\n",
       "\n",
       "    .dataframe thead th {\n",
       "        text-align: right;\n",
       "    }\n",
       "</style>\n",
       "<table border=\"1\" class=\"dataframe\">\n",
       "  <thead>\n",
       "    <tr style=\"text-align: right;\">\n",
       "      <th></th>\n",
       "      <th>indicator</th>\n",
       "      <th>CountryName</th>\n",
       "    </tr>\n",
       "    <tr>\n",
       "      <th>country</th>\n",
       "      <th></th>\n",
       "      <th></th>\n",
       "    </tr>\n",
       "  </thead>\n",
       "  <tbody>\n",
       "    <tr>\n",
       "      <th>Arab World</th>\n",
       "      <td>0.92678</td>\n",
       "      <td>Arab World</td>\n",
       "    </tr>\n",
       "    <tr>\n",
       "      <th>Caribbean small states</th>\n",
       "      <td>1.07969</td>\n",
       "      <td>Caribbean small states</td>\n",
       "    </tr>\n",
       "    <tr>\n",
       "      <th>Central Europe and the Baltics</th>\n",
       "      <td>0.98861</td>\n",
       "      <td>Central Europe and the Baltics</td>\n",
       "    </tr>\n",
       "    <tr>\n",
       "      <th>Early-demographic dividend</th>\n",
       "      <td>1.00459</td>\n",
       "      <td>Early-demographic dividend</td>\n",
       "    </tr>\n",
       "    <tr>\n",
       "      <th>East Asia &amp; Pacific</th>\n",
       "      <td>1.01198</td>\n",
       "      <td>East Asia &amp; Pacific</td>\n",
       "    </tr>\n",
       "  </tbody>\n",
       "</table>\n",
       "</div>"
      ],
      "text/plain": [
       "                                indicator                     CountryName\n",
       "country                                                                  \n",
       "Arab World                        0.92678                      Arab World\n",
       "Caribbean small states            1.07969          Caribbean small states\n",
       "Central Europe and the Baltics    0.98861  Central Europe and the Baltics\n",
       "Early-demographic dividend        1.00459      Early-demographic dividend\n",
       "East Asia & Pacific               1.01198             East Asia & Pacific"
      ]
     },
     "execution_count": 13,
     "metadata": {},
     "output_type": "execute_result"
    }
   ],
   "source": [
    "df_wb = WB_country_data('SE.ENR.SECO.FM.ZS')\n",
    "\n",
    "df_wb['CountryName'] = df_wb.index\n",
    "df_wb.head()"
   ]
  },
  {
   "cell_type": "code",
   "execution_count": 26,
   "metadata": {},
   "outputs": [
    {
     "name": "stdout",
     "output_type": "stream",
     "text": [
      "Collecting seaborn\n",
      "\u001b[?25l  Downloading https://files.pythonhosted.org/packages/a8/76/220ba4420459d9c4c9c9587c6ce607bf56c25b3d3d2de62056efe482dadc/seaborn-0.9.0-py3-none-any.whl (208kB)\n",
      "\u001b[K    100% |████████████████████████████████| 215kB 5.5MB/s ta 0:00:01\n",
      "\u001b[?25hCollecting scipy>=0.14.0 (from seaborn)\n",
      "\u001b[?25l  Downloading https://files.pythonhosted.org/packages/a0/b6/70bf61c1badb5fea82d4c558e05e76c2dee5e77bb072fe465d7c7a87287d/scipy-1.1.0-cp36-cp36m-macosx_10_6_intel.macosx_10_9_intel.macosx_10_9_x86_64.macosx_10_10_intel.macosx_10_10_x86_64.whl (16.7MB)\n",
      "\u001b[K    100% |████████████████████████████████| 16.7MB 1.7MB/s eta 0:00:01   41% |█████████████▍                  | 7.0MB 4.4MB/s eta 0:00:03\n",
      "\u001b[?25hRequirement already satisfied: pandas>=0.15.2 in /Users/nixiwang/miniconda3/lib/python3.6/site-packages (from seaborn) (0.23.4)\n",
      "Requirement already satisfied: numpy>=1.9.3 in /Users/nixiwang/miniconda3/lib/python3.6/site-packages (from seaborn) (1.15.2)\n",
      "Requirement already satisfied: matplotlib>=1.4.3 in /Users/nixiwang/miniconda3/lib/python3.6/site-packages (from seaborn) (3.0.0)\n",
      "Requirement already satisfied: python-dateutil>=2.5.0 in /Users/nixiwang/miniconda3/lib/python3.6/site-packages (from pandas>=0.15.2->seaborn) (2.7.3)\n",
      "Requirement already satisfied: pytz>=2011k in /Users/nixiwang/miniconda3/lib/python3.6/site-packages (from pandas>=0.15.2->seaborn) (2018.5)\n",
      "Requirement already satisfied: cycler>=0.10 in /Users/nixiwang/miniconda3/lib/python3.6/site-packages (from matplotlib>=1.4.3->seaborn) (0.10.0)\n",
      "Requirement already satisfied: kiwisolver>=1.0.1 in /Users/nixiwang/miniconda3/lib/python3.6/site-packages (from matplotlib>=1.4.3->seaborn) (1.0.1)\n",
      "Requirement already satisfied: pyparsing!=2.0.4,!=2.1.2,!=2.1.6,>=2.0.1 in /Users/nixiwang/miniconda3/lib/python3.6/site-packages (from matplotlib>=1.4.3->seaborn) (2.2.2)\n",
      "Requirement already satisfied: six>=1.5 in /Users/nixiwang/miniconda3/lib/python3.6/site-packages (from python-dateutil>=2.5.0->pandas>=0.15.2->seaborn) (1.11.0)\n",
      "Requirement already satisfied: setuptools in /Users/nixiwang/miniconda3/lib/python3.6/site-packages (from kiwisolver>=1.0.1->matplotlib>=1.4.3->seaborn) (40.4.3)\n",
      "\u001b[31mmkl-random 1.0.1 requires cython, which is not installed.\u001b[0m\n",
      "Installing collected packages: scipy, seaborn\n",
      "Successfully installed scipy-1.1.0 seaborn-0.9.0\n",
      "\u001b[33mYou are using pip version 10.0.1, however version 18.1 is available.\n",
      "You should consider upgrading via the 'pip install --upgrade pip' command.\u001b[0m\n"
     ]
    }
   ],
   "source": [
    "!pip install seaborn"
   ]
  },
  {
   "cell_type": "markdown",
   "metadata": {},
   "source": [
    "__A grand function that takes as input a list of country codes, then uses our function above WB_country_data to get a list of indicators for each country,then plot a line diagram.__"
   ]
  },
  {
   "cell_type": "code",
   "execution_count": 30,
   "metadata": {},
   "outputs": [],
   "source": [
    "def plot_indicators(country_list, indicator, start=2000, end=2015):\n",
    "    import matplotlib.pyplot as plt\n",
    "    import seaborn as sns\n",
    "    import wbdata\n",
    "    import re\n",
    "    ind = wbdata.get_indicator(indicator, display=False)\n",
    "    # capture the title which includes the unit after bracket\n",
    "    title = ind[0]['name']\n",
    "    # now take entire text from first letter to before opening bracket\n",
    "    title = title[:title.find('(')-1]\n",
    "    # this is the patter to match anything between two brackets\n",
    "    p = re.compile('\\((.*?)\\)')\n",
    "    ylab = p.findall(ind[0]['name'])[0]\n",
    "    sns.set_style('white')\n",
    "    fig, axis = plt.subplots()\n",
    "    for c in country_list:\n",
    "        axis.plot(range(start,end+1), country_data(c,indicator,start,end))\n",
    "    plt.legend(country_list)\n",
    "    plt.title(title)\n",
    "    plt.ylabel(ylab)\n",
    "    plt.show()"
   ]
  },
  {
   "cell_type": "code",
   "execution_count": 32,
   "metadata": {},
   "outputs": [
    {
     "data": {
      "image/png": "[encoded data removed]",
      "text/plain": [
       "<Figure size 432x288 with 1 Axes>"
      ]
     },
     "metadata": {},
     "output_type": "display_data"
    }
   ],
   "source": [
    "plot_indicators(['SAU', 'QAT', 'ARE','USA','CAN'],\n",
    "                'SE.ENR.SECO.FM.ZS',1990,2015)"
   ]
  }
 ],
 "metadata": {
  "kernelspec": {
   "display_name": "Python 3",
   "language": "python",
   "name": "python3"
  },
  "language_info": {
   "codemirror_mode": {
    "name": "ipython",
    "version": 3
   },
   "file_extension": ".py",
   "mimetype": "text/x-python",
   "name": "python",
   "nbconvert_exporter": "python",
   "pygments_lexer": "ipython3",
   "version": "3.6.6"
  }
 },
 "nbformat": 4,
 "nbformat_minor": 1
}
