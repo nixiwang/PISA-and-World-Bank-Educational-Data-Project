{
 "cells": [
  {
   "cell_type": "code",
   "execution_count": 1,
   "metadata": {},
   "outputs": [],
   "source": [
    "from get_students_info import get_student_info"
   ]
  },
  {
   "cell_type": "code",
   "execution_count": 3,
   "metadata": {},
   "outputs": [
    {
     "name": "stdout",
     "output_type": "stream",
     "text": [
      "Default attributes are: \"IBTEACH\", \"WEALTH\", \"ESCS\", \"SC013Q01TA\", \"SCIERES\"\n",
      "Default output name is: student_info.csv\n",
      "Using default settings?(y/n): n\n",
      "Input attribute name, \"s\" to stop:\n",
      "invalid_name\n",
      "No attribute: invalid_name\n",
      "Please input again.\n",
      "WEALTH\n",
      "s\n",
      "Input output file name:customized_student_info.csv\n"
     ]
    }
   ],
   "source": [
    "get_student_info('data_files/stuscho.csv')"
   ]
  }
 ],
 "metadata": {
  "kernelspec": {
   "display_name": "Python 3",
   "language": "python",
   "name": "python3"
  },
  "language_info": {
   "codemirror_mode": {
    "name": "ipython",
    "version": 3
   },
   "file_extension": ".py",
   "mimetype": "text/x-python",
   "name": "python",
   "nbconvert_exporter": "python",
   "pygments_lexer": "ipython3",
   "version": "3.7.0"
  }
 },
 "nbformat": 4,
 "nbformat_minor": 2
}
