{
 "cells": [
  {
   "cell_type": "code",
   "execution_count": 14,
   "metadata": {},
   "outputs": [],
   "source": [
    "import pandas as pd\n",
    "import savReaderWriter as spss\n",
    "from pathlib import Path"
   ]
  },
  {
   "cell_type": "code",
   "execution_count": 15,
   "metadata": {},
   "outputs": [
    {
     "name": "stderr",
     "output_type": "stream",
     "text": [
      "C:\\Users\\RobinQu\\Anaconda3\\lib\\site-packages\\IPython\\core\\interactiveshell.py:2785: DtypeWarning: Columns (20,22,23,29,30,31,32,33,34,35,36,37,38,39,40,41,42,43,44,45,46,47,48,49,50,51,52,53,54,55,56,57,58,59,60,61,62,63,64,65,66,67,68,69,70,71,72,73,74,75,76,77,78,79,80,81,82,83,84,85,86,87,88,89,90,91,92,93,94,95,96,97,98,99,100,101,102,103,104,105,106,107,108,109,110,111,112,113,114,115,116,117,118,119,120,121,122,123,124,125,126,127,128,129,130,131,132,133,134,135,136,137,138,139,140,141,142,143,144,145,146,147,148,149,150,151,152,153,154,155,156,157,158,159,160,161,162,163,164,165,166,167,168,169,170,171,172,173,174,175,176,177,178,179,180,181,182,183,184,185,186,187,188,189,190,191,192,193,194,195,196,197,198,199,200,201,202,203,204,205,206,207,208,209,210,211,212,213,214,215,216,217,218,219,220,221,222,223,224,225,226,227,228,229,230,231,232,233,234,235,236,237,238,239,240,241,242,243,244,245,246,247,248,249,250,251,252,253,254,255,256,257,258,259,260,261,262,263,264,265,266,267,268,269,270,271,272,273,274,275,276,277,278,279,280,281,282,283,284,285,286,287,288,289,290,291,292,293,294,295,296,297,298,299,300,301,302,303,304,305,306,307,308,309,310,311,312,313,314,315,316,317,318,319,320,321,322,323,324,325,326,327,328,329,330,331,332,333,334,335,336,337,338,339,340,341,342,343,344,345,346,347,348,349,350,351,352,353,354,355,356,357,358,359,360,361,362,363,364,365,366,367,368,369,370,371,372,373,374,375,376,377,378,379,380,381,382,383,384,385,386,387,388,389,390,391,392,393,394,395,396,397,398,399,400,401,402,403,404,405,406,407,408,409,410,411,412,413,414,415,416,417,418,419,420,421,422,423,424,425,426,427,428,429,430,431,432,433,434,435,436,437,438,439,440,441,442,443,444,445,446,447,448,449,450,451,452,453,454,455,456,457,458,459,460,461,462,463,464,465,466,467,468,469,470,471,472,473,474,475,476,477,478,479,480,481,482,483,484,485,486,487,488,489,490,491,492,493,494,495,496,497,498,499,500,501,502,503,504,505,506,507,508,509,510,511,512,513,514,515,516,517,518,519,520,521,522,523,524,525,526,527,528,529,530,531,532,533,534,535,536,537,538,539,540,541,542,543,544,545,546,547,548,549,550,551,552,553,554,555,556,557,558,559,560,561,562,563,564,565,566,567,568,569,570,571,572,573,574,575,576,577,578,579,580,581,582,583,584,585,586,587,588,589,590,591,592,593,594,595,596,597,598,599,600,601,602,603,604,605,606,607,608,609,610,611,612,613,614,615,616,617,618,619,620,621,622,623,624,625,626,627,628,629,630,631,632,633,634,635,636,637,638,639,645,646,647,648,649,650,651,652,653,654,655,656,657,659,660,661,662,663,664,665,666,667,668,669,670,671,672,673,674,675,676,677,678,679,680,681,682,683,684,685,686,687,688,689,690,691,692,693,694,695,696,697,698,699,700,701,702,703,704,705,706,707,708,709,710,711,712,713,714,715,716,717,718,719,720,721,722,723,724,725,807,808,839,840,841,842,843,844,845,846,847,848,849,850,851,852,853,854,855,856,857,858,859,860,861,862,863,864,865,866,867,868,869,870,871,872,873,874,875,876,877,878,879,880,881,882,883,884,885,886,887,888,889,890,891,892,893,894,895,896,897,898,899,900,901,902,903,904,905,906,907,908,909,910,911,912,913,914,915,916,917,918,921,922,923,924,925,926,927,928,929,930,931,932,933,934,935,936,937,938,939,940,941,942,943,944,945,946,947,948,949,950,951,952,953,954,955,956,957,958,959,960,961,962,963,964,965,966,967,968,969,970,971,972,973,974,975,976,977,978,979,980,981,982,983,984,985,986,987,988,989,990,991,992,993,994,995,996,997,998,999,1000,1001,1002,1003,1004,1005,1006,1007,1008,1009,1010,1011,1012,1013,1014,1015,1016,1017,1018,1019,1020,1021,1022,1023,1024,1025,1026,1027,1028,1029,1030,1031,1032,1033,1034,1035,1036,1037,1038,1039,1040,1041,1042,1043,1044,1045,1046,1047,1048,1049,1050,1051,1052,1053,1054,1055,1056,1057,1058,1059,1060,1061,1062,1063,1064,1065,1066,1067,1068,1069,1070,1071,1072,1073,1074,1075,1076,1077,1078,1079,1080,1081,1082,1083,1084,1085,1086,1087,1088,1089,1090,1091,1092,1093,1094,1095,1096,1097,1098,1099,1100,1101,1102,1103,1104,1105,1106,1107,1108,1109,1110,1111,1112,1113,1114,1115,1116,1117,1118,1119,1120,1121,1122,1123,1124,1125,1126,1127,1128,1129,1130,1131,1132,1133,1134,1135,1136,1137,1138,1139,1140,1141,1142,1143,1144,1145,1146,1147,1148,1149,1150,1151,1152,1153,1154,1155,1156,1157,1158,1159,1160,1161,1162,1163,1164,1165,1166,1167,1168,1169,1170,1171,1172,1173,1174,1175,1176,1177,1178,1179,1180,1181) have mixed types. Specify dtype option on import or set low_memory=False.\n",
      "  interactivity=interactivity, compiler=compiler, result=result)\n"
     ]
    }
   ],
   "source": [
    "df = pd.read_csv('Data files/PISA data/stuscho.csv')\n",
    "country_dict_df = pd.read_csv('Data files/PISA data/nations.csv')"
   ]
  },
  {
   "cell_type": "code",
   "execution_count": 16,
   "metadata": {},
   "outputs": [],
   "source": [
    "def sav_to_dataframe(file):\n",
    "    if not os.path.isfile(file):\n",
    "        print('File not exists!')\n",
    "        raise FileNotFoundError()\n",
    "    \n",
    "    if not file.endswith('.sav'):\n",
    "        print('It is not a sav file!')\n",
    "        raise FileNotFoundError()\n",
    "\n",
    "    records = []\n",
    "    with spss.SavReader(file) as reader:\n",
    "        print(\"Reading file:\",file, \"...\")\n",
    "        for line in reader:\n",
    "            records.append(line)\n",
    "\n",
    "    df = pd.DataFrame(records)\n",
    "    return df"
   ]
  },
  {
   "cell_type": "code",
   "execution_count": 17,
   "metadata": {},
   "outputs": [],
   "source": [
    "def student2school(df, id):\n",
    "    '''\n",
    "        Takes the 'IDs_sorted_by_student.csv' dataframe and student id, returns school id of the student.\n",
    "        '''\n",
    "    return student2schoolHelper(df, id, 0, len(df))"
   ]
  },
  {
   "cell_type": "code",
   "execution_count": 18,
   "metadata": {},
   "outputs": [],
   "source": [
    "def student2schoolHelper(df, id, start, end):\n",
    "    if start > end:\n",
    "        print('Student ID:' + id + ' not exists!')\n",
    "        raise KeyError()\n",
    "    elif start == end:\n",
    "        if id == student2schoolHelper['CNTSCHID'][start]:\n",
    "            return student2schoolHelper['SUBNATIO'][start]\n",
    "        else:\n",
    "            print('Student ID:' + id + ' not exists!')\n",
    "            raise KeyError()\n",
    "    index = (end + start) // 2\n",
    "    mid_value = df['CNTSCHID'][index]\n",
    "    if mid_value == id:\n",
    "        return df['SUBNATIO'][index]\n",
    "    elif mid_value > id:\n",
    "        return student2schoolHelper(df, id, start, index)\n",
    "    else:\n",
    "        return student2schoolHelper(df, id, index, end)"
   ]
  },
  {
   "cell_type": "code",
   "execution_count": 19,
   "metadata": {},
   "outputs": [],
   "source": [
    "def school2nation(id):\n",
    "    '''\n",
    "        Takes school id, returns nation id of the school.\n",
    "        '''\n",
    "    if id < 97100000:\n",
    "        return id // 100000 * 10000\n",
    "    if id < 97200000:\n",
    "        return 7240000\n",
    "    return 8400000"
   ]
  },
  {
   "cell_type": "code",
   "execution_count": 20,
   "metadata": {},
   "outputs": [],
   "source": [
    "def student2nation(id):\n",
    "    '''\n",
    "        Takes student id, returns nation id of the student.\n",
    "        '''\n",
    "    return school2nation(id)"
   ]
  },
  {
   "cell_type": "code",
   "execution_count": 21,
   "metadata": {},
   "outputs": [],
   "source": [
    "def info(df, id):\n",
    "    '''\n",
    "    :param df: the dataframe of 'nations.csv'\n",
    "    :param id: the id of nation\n",
    "    :return: a tuple - (string country name, string continent)\n",
    "    '''\n",
    "    try:\n",
    "        target = df[df['nationID'] == id]\n",
    "    except KeyError:\n",
    "        print('Nation ID:' + id + ' not exists!')\n",
    "        raise KeyError()\n",
    "\n",
    "    name = target['nationName'].tolist()\n",
    "    continent = target.continent.tolist()\n",
    "\n",
    "    return (name[0],continent[0])"
   ]
  },
  {
   "cell_type": "code",
   "execution_count": 22,
   "metadata": {},
   "outputs": [],
   "source": [
    "def infos(country_df, id_list):\n",
    "    '''\n",
    "    :param country_df: the dataframe of 'nations.csv'\n",
    "    :param id_df: the dataframe of country id\n",
    "    :return: a dataframe - (string country name, string continent)\n",
    "    '''\n",
    "\n",
    "    name_list = []\n",
    "    continent_list = []\n",
    "\n",
    "    for i in range(len(id_list)):\n",
    "        t = info(country_df, id_list[i])\n",
    "        name_list.append(t[0])\n",
    "        continent_list.append(t[1])\n",
    "\n",
    "    dict = {'CountryName':name_list, 'Continent':continent_list}\n",
    "    res = pd.DataFrame(dict)\n",
    "\n",
    "    return res"
   ]
  },
  {
   "cell_type": "code",
   "execution_count": 23,
   "metadata": {
    "scrolled": true
   },
   "outputs": [],
   "source": [
    "df1 = df[['CNTRYID', 'CNTSCHID', 'CNTSTUID', 'ST004D01T']]\n",
    "df1.columns = ['CountryID', 'SchoolID', 'StudentID', 'Gender']\n",
    "stuid_list = df1['StudentID'].tolist()\n",
    "countryid_list = []\n",
    "for stuid in stuid_list:\n",
    "    countryid_list.append(student2nation(stuid))\n",
    "df_country = infos(country_dict_df, countryid_list)\n",
    "df_math = df.iloc[:, 809:819]\n",
    "df_math['Mathematics'] = df_math.mean(axis=1)\n",
    "df_read = df.iloc[:, 819:829]\n",
    "df_read['Reading'] = df_read.mean(axis=1)\n",
    "df_science = df.iloc[:, 829:839]\n",
    "df_science['Science'] = df_science.mean(axis=1)\n",
    "df_hlm = df[['IBTEACH', 'WEALTH', 'ESCS', 'SC013Q01TA', 'SCIERES']]"
   ]
  },
  {
   "cell_type": "code",
   "execution_count": 24,
   "metadata": {},
   "outputs": [],
   "source": [
    "output_df = pd.concat([df1, df_country, df_math['Mathematics'],\n",
    "                       df_read['Reading'], df_science['Science'],\n",
    "                       df_hlm], axis=1, sort=False)\n",
    "output_df.loc[df1['Gender'] == 1, 'Gender'] = 'Female'\n",
    "output_df.loc[df1['Gender'] == 2, 'Gender'] = 'Male'\n",
    "output_df.to_csv('student_info.csv', encoding='utf-8')"
   ]
  },
  {
   "cell_type": "code",
   "execution_count": null,
   "metadata": {},
   "outputs": [],
   "source": []
  }
 ],
 "metadata": {
  "kernelspec": {
   "display_name": "Python 3",
   "language": "python",
   "name": "python3"
  },
  "language_info": {
   "codemirror_mode": {
    "name": "ipython",
    "version": 3
   },
   "file_extension": ".py",
   "mimetype": "text/x-python",
   "name": "python",
   "nbconvert_exporter": "python",
   "pygments_lexer": "ipython3",
   "version": "3.7.0"
  }
 },
 "nbformat": 4,
 "nbformat_minor": 2
}
